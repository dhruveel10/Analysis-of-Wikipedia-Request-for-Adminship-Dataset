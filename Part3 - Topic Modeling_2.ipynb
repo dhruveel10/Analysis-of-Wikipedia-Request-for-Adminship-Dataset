{
 "cells": [
  {
   "cell_type": "markdown",
   "id": "cdb8c0f1",
   "metadata": {},
   "source": [
    "# 0.0 imports"
   ]
  },
  {
   "cell_type": "code",
   "execution_count": 1,
   "id": "129a3da6",
   "metadata": {},
   "outputs": [],
   "source": [
    "#imports\n",
    "import json\n",
    "import datetime\n",
    "import pandas as pd\n",
    "import json\n",
    "import math\n",
    "import string\n",
    "import io\n",
    "\n",
    "import nltk\n",
    "from nltk.sentiment.vader import SentimentIntensityAnalyzer\n",
    "from nltk.tokenize import TweetTokenizer\n",
    "from nltk.corpus import stopwords\n",
    "from nltk.stem.porter import *\n",
    "from nltk import *\n",
    "\n",
    "from gensim import corpora, models\n",
    "\n",
    "%matplotlib inline "
   ]
  },
  {
   "cell_type": "markdown",
   "id": "47783961",
   "metadata": {},
   "source": [
    "# 1.0 Reading data"
   ]
  },
  {
   "cell_type": "code",
   "execution_count": 2,
   "id": "5089ba30",
   "metadata": {},
   "outputs": [],
   "source": [
    "# Create empty lists for each column\n",
    "src_list = []\n",
    "tgt_list = []\n",
    "vot_list = []\n",
    "res_list = []\n",
    "yea_list = []\n",
    "dat_list = []\n",
    "txt_list = []\n",
    "\n",
    "\n",
    "# Read the text file line by line\n",
    "with open('wiki-RfA.txt', 'r', encoding = \"utf-8\") as f:\n",
    "    for line in f:\n",
    "        \n",
    "        # Extract the SRC, TGT, and TXT columns from each line\n",
    "        if line.startswith('SRC:'):\n",
    "            src_list.append(line.strip()[4:])\n",
    "        elif line.startswith('TGT:'):\n",
    "            tgt_list.append(line.strip()[4:])\n",
    "        elif line.startswith('VOT:'):\n",
    "            vot_list.append(line.strip()[4:])\n",
    "        elif line.startswith('RES:'):\n",
    "            res_list.append(line.strip()[4:])\n",
    "        elif line.startswith('YEA:'):\n",
    "            yea_list.append(line.strip()[4:])\n",
    "        elif line.startswith('DAT:'):\n",
    "            dat_list.append(line.strip()[4:])\n",
    "        elif line.startswith('TXT:'):\n",
    "            txt_list.append(line.strip()[4:])\n",
    "\n",
    "# Create a Pandas dataframe with the extracted columns\n",
    "df = pd.DataFrame({'SRC': src_list, 'TGT': tgt_list, 'VOT':vot_list, 'RES':res_list, 'YEA':yea_list, 'DAT':dat_list,'TXT': txt_list})"
   ]
  },
  {
   "cell_type": "markdown",
   "id": "714944fc",
   "metadata": {},
   "source": [
    "# 2.0 PreProcessing"
   ]
  },
  {
   "cell_type": "markdown",
   "id": "48a331e6",
   "metadata": {},
   "source": [
    "## 2.1 Tokenizing"
   ]
  },
  {
   "cell_type": "code",
   "execution_count": 4,
   "id": "b628c362",
   "metadata": {},
   "outputs": [],
   "source": [
    "def tokenize_fn(all_docs):\n",
    "    exclude = set(string.punctuation)\n",
    "    tokenized = []\n",
    "    tokenizer = TweetTokenizer()\n",
    "    for doc in all_docs:\n",
    "        tokens = tokenizer.tokenize(doc.lower())\n",
    "        tokenized.append(''.join([ch for ch in ' '.join(tokens) if ch not in exclude]).split())\n",
    "    return tokenized"
   ]
  },
  {
   "cell_type": "code",
   "execution_count": 5,
   "id": "2aa27697",
   "metadata": {},
   "outputs": [],
   "source": [
    "win_df = pd.DataFrame()\n",
    "\n",
    "win_df['tokenized'] = tokenize_fn(all_docs = df[df['RES'] == '1']['TXT'])\n",
    "win_df['body'] = df['TXT']\n",
    "\n",
    "los_df = pd.DataFrame()\n",
    "\n",
    "los_df['tokenized'] = tokenize_fn(all_docs = df[df['RES'] == '-1']['TXT'])\n",
    "los_df['body'] = df['TXT']"
   ]
  },
  {
   "cell_type": "markdown",
   "id": "33d44ed3",
   "metadata": {},
   "source": [
    "## 2.2 Stopwords removal"
   ]
  },
  {
   "cell_type": "code",
   "execution_count": 9,
   "id": "5b1e5c48",
   "metadata": {},
   "outputs": [],
   "source": [
    "def stopwords_removal(tokens):\n",
    "    sws = set(stopwords.words('english'))\n",
    "    sws.add(\"…\") \n",
    "    sws_removed = []\n",
    "    for j,sent in enumerate(tokens):\n",
    "        sws_removed.append([i for i in sent if i not in sws and len(i) > 2])\n",
    "    return sws_removed"
   ]
  },
  {
   "cell_type": "code",
   "execution_count": 10,
   "id": "109e5e78",
   "metadata": {},
   "outputs": [],
   "source": [
    "win_tokenized_stpwrd = stopwords_removal(win_df['tokenized'])\n",
    "los_tokenized_stpwrd = stopwords_removal(los_df['tokenized'])"
   ]
  },
  {
   "cell_type": "markdown",
   "id": "382dd443",
   "metadata": {},
   "source": [
    "# 3.0 Analysis"
   ]
  },
  {
   "cell_type": "markdown",
   "id": "f72eafc5",
   "metadata": {},
   "source": [
    "## 3.1 Topic Modeling"
   ]
  },
  {
   "cell_type": "code",
   "execution_count": 11,
   "id": "cf4668fc",
   "metadata": {},
   "outputs": [],
   "source": [
    "def topic_model(tokens):\n",
    "    \n",
    "    dictionary = corpora.Dictionary(tokens)\n",
    "    dictionary.filter_extremes(no_below=5, no_above=0.3)\n",
    "    dictionary.compactify()\n",
    "    \n",
    "    corpus = [dictionary.doc2bow(text) for text in tokens]\n",
    "    ldamodel = models.ldamodel.LdaModel(corpus, num_topics=3, id2word=dictionary, passes=20)\n",
    "    \n",
    "    model_topics = ldamodel.print_topics(num_topics = 5, num_words = 5)\n",
    "    topics_arr=[]\n",
    "    \n",
    "    for i in range(0, len(corpus)):  \n",
    "        topics = ldamodel.get_document_topics(corpus[i])\n",
    "        topics = sorted(topics, key=lambda x: -x[1])\n",
    "        topics_arr.append(topics[0][0])\n",
    "        \n",
    "    return topics_arr, model_topics"
   ]
  },
  {
   "cell_type": "code",
   "execution_count": 12,
   "id": "d82164e6",
   "metadata": {},
   "outputs": [],
   "source": [
    "topic_tweet_win, win_lda_topics = topic_model(tokens = win_tokenized_stpwrd)\n",
    "topic_tweet_los, los_lda_topics = topic_model(tokens = los_tokenized_stpwrd)"
   ]
  },
  {
   "cell_type": "code",
   "execution_count": 13,
   "id": "7e8c865f",
   "metadata": {},
   "outputs": [
    {
     "data": {
      "text/plain": [
       "[(0,\n",
       "  '0.071*\"good\" + 0.037*\"admin\" + 0.026*\"editor\" + 0.022*\"great\" + 0.018*\"work\"'),\n",
       " (1,\n",
       "  '0.016*\"oppose\" + 0.016*\"edits\" + 0.012*\"user\" + 0.011*\"see\" + 0.009*\"time\"'),\n",
       " (2,\n",
       "  '0.152*\"font\" + 0.093*\"user\" + 0.089*\"color\" + 0.028*\"green\" + 0.026*\"per\"')]"
      ]
     },
     "execution_count": 13,
     "metadata": {},
     "output_type": "execute_result"
    }
   ],
   "source": [
    "win_lda_topics"
   ]
  },
  {
   "cell_type": "code",
   "execution_count": 14,
   "id": "0bada289",
   "metadata": {},
   "outputs": [
    {
     "data": {
      "text/plain": [
       "[(0,\n",
       "  '0.129*\"font\" + 0.091*\"user\" + 0.072*\"color\" + 0.054*\"per\" + 0.028*\"style\"'),\n",
       " (1,\n",
       "  '0.030*\"edits\" + 0.021*\"good\" + 0.019*\"experience\" + 0.016*\"edit\" + 0.014*\"admin\"'),\n",
       " (2,\n",
       "  '0.012*\"admin\" + 0.012*\"user\" + 0.009*\"would\" + 0.008*\"wikipedia\" + 0.008*\"good\"')]"
      ]
     },
     "execution_count": 14,
     "metadata": {},
     "output_type": "execute_result"
    }
   ],
   "source": [
    "los_lda_topics"
   ]
  },
  {
   "cell_type": "code",
   "execution_count": 15,
   "id": "edc36dba",
   "metadata": {},
   "outputs": [],
   "source": [
    "win_df['topic'] = topic_tweet_win\n",
    "los_df['topic'] = topic_tweet_los"
   ]
  },
  {
   "cell_type": "code",
   "execution_count": 16,
   "id": "997d2dd0",
   "metadata": {},
   "outputs": [
    {
     "data": {
      "text/html": [
       "<div>\n",
       "<style scoped>\n",
       "    .dataframe tbody tr th:only-of-type {\n",
       "        vertical-align: middle;\n",
       "    }\n",
       "\n",
       "    .dataframe tbody tr th {\n",
       "        vertical-align: top;\n",
       "    }\n",
       "\n",
       "    .dataframe thead th {\n",
       "        text-align: right;\n",
       "    }\n",
       "</style>\n",
       "<table border=\"1\" class=\"dataframe\">\n",
       "  <thead>\n",
       "    <tr style=\"text-align: right;\">\n",
       "      <th></th>\n",
       "      <th>tokenized</th>\n",
       "      <th>body</th>\n",
       "      <th>topic</th>\n",
       "    </tr>\n",
       "  </thead>\n",
       "  <tbody>\n",
       "    <tr>\n",
       "      <th>0</th>\n",
       "      <td>[support, as, conom]</td>\n",
       "      <td>'''Support''' as co-nom.</td>\n",
       "      <td>2</td>\n",
       "    </tr>\n",
       "    <tr>\n",
       "      <th>1</th>\n",
       "      <td>[support, as, nominator]</td>\n",
       "      <td>'''Support''' as nominator.--</td>\n",
       "      <td>2</td>\n",
       "    </tr>\n",
       "    <tr>\n",
       "      <th>2</th>\n",
       "      <td>[support, per, noms]</td>\n",
       "      <td>'''Support''' per noms.</td>\n",
       "      <td>2</td>\n",
       "    </tr>\n",
       "    <tr>\n",
       "      <th>3</th>\n",
       "      <td>[support, per, noms, bdd, is, a, strong, contr...</td>\n",
       "      <td>'''Support''' per noms. BDD is a strong contri...</td>\n",
       "      <td>1</td>\n",
       "    </tr>\n",
       "    <tr>\n",
       "      <th>4</th>\n",
       "      <td>[support, with, great, pleasure, i, work, with...</td>\n",
       "      <td>'''Support''', with great pleasure. I work wit...</td>\n",
       "      <td>0</td>\n",
       "    </tr>\n",
       "  </tbody>\n",
       "</table>\n",
       "</div>"
      ],
      "text/plain": [
       "                                           tokenized  \\\n",
       "0                               [support, as, conom]   \n",
       "1                           [support, as, nominator]   \n",
       "2                               [support, per, noms]   \n",
       "3  [support, per, noms, bdd, is, a, strong, contr...   \n",
       "4  [support, with, great, pleasure, i, work, with...   \n",
       "\n",
       "                                                body  topic  \n",
       "0                           '''Support''' as co-nom.      2  \n",
       "1                      '''Support''' as nominator.--      2  \n",
       "2                            '''Support''' per noms.      2  \n",
       "3  '''Support''' per noms. BDD is a strong contri...      1  \n",
       "4  '''Support''', with great pleasure. I work wit...      0  "
      ]
     },
     "execution_count": 16,
     "metadata": {},
     "output_type": "execute_result"
    }
   ],
   "source": [
    "win_df.head()"
   ]
  },
  {
   "cell_type": "code",
   "execution_count": 17,
   "id": "0da5bc5c",
   "metadata": {},
   "outputs": [
    {
     "data": {
      "text/html": [
       "<div>\n",
       "<style scoped>\n",
       "    .dataframe tbody tr th:only-of-type {\n",
       "        vertical-align: middle;\n",
       "    }\n",
       "\n",
       "    .dataframe tbody tr th {\n",
       "        vertical-align: top;\n",
       "    }\n",
       "\n",
       "    .dataframe thead th {\n",
       "        text-align: right;\n",
       "    }\n",
       "</style>\n",
       "<table border=\"1\" class=\"dataframe\">\n",
       "  <thead>\n",
       "    <tr style=\"text-align: right;\">\n",
       "      <th></th>\n",
       "      <th>tokenized</th>\n",
       "      <th>body</th>\n",
       "      <th>topic</th>\n",
       "    </tr>\n",
       "  </thead>\n",
       "  <tbody>\n",
       "    <tr>\n",
       "      <th>0</th>\n",
       "      <td>[i, am, supporting, you, for, our, country, ev...</td>\n",
       "      <td>'''Support''' as co-nom.</td>\n",
       "      <td>2</td>\n",
       "    </tr>\n",
       "    <tr>\n",
       "      <th>1</th>\n",
       "      <td>[your, advocacy, is, good, and, i, support, it...</td>\n",
       "      <td>'''Support''' as nominator.--</td>\n",
       "      <td>2</td>\n",
       "    </tr>\n",
       "    <tr>\n",
       "      <th>2</th>\n",
       "      <td>[sorry, but, you, dont, have, enough, document...</td>\n",
       "      <td>'''Support''' per noms.</td>\n",
       "      <td>1</td>\n",
       "    </tr>\n",
       "    <tr>\n",
       "      <th>3</th>\n",
       "      <td>[strong, oppose, sorry, but, the, fact, you, d...</td>\n",
       "      <td>'''Support''' per noms. BDD is a strong contri...</td>\n",
       "      <td>2</td>\n",
       "    </tr>\n",
       "    <tr>\n",
       "      <th>4</th>\n",
       "      <td>[strong, oppose, occasional, editor, with, bar...</td>\n",
       "      <td>'''Support''', with great pleasure. I work wit...</td>\n",
       "      <td>1</td>\n",
       "    </tr>\n",
       "  </tbody>\n",
       "</table>\n",
       "</div>"
      ],
      "text/plain": [
       "                                           tokenized  \\\n",
       "0  [i, am, supporting, you, for, our, country, ev...   \n",
       "1  [your, advocacy, is, good, and, i, support, it...   \n",
       "2  [sorry, but, you, dont, have, enough, document...   \n",
       "3  [strong, oppose, sorry, but, the, fact, you, d...   \n",
       "4  [strong, oppose, occasional, editor, with, bar...   \n",
       "\n",
       "                                                body  topic  \n",
       "0                           '''Support''' as co-nom.      2  \n",
       "1                      '''Support''' as nominator.--      2  \n",
       "2                            '''Support''' per noms.      1  \n",
       "3  '''Support''' per noms. BDD is a strong contri...      2  \n",
       "4  '''Support''', with great pleasure. I work wit...      1  "
      ]
     },
     "execution_count": 17,
     "metadata": {},
     "output_type": "execute_result"
    }
   ],
   "source": [
    "los_df.head()"
   ]
  },
  {
   "cell_type": "markdown",
   "id": "5e18def6",
   "metadata": {},
   "source": [
    "## 3.2 Sentiment Analysis for winner topics"
   ]
  },
  {
   "cell_type": "code",
   "execution_count": 18,
   "id": "ec549287",
   "metadata": {},
   "outputs": [],
   "source": [
    "analyzer = SentimentIntensityAnalyzer()\n",
    "\n",
    "def sentiment_analysis(filtered_tweets):\n",
    "    labels_vader=[]\n",
    "    for tweet in filtered_tweets:\n",
    "        vs = analyzer.polarity_scores(tweet)\n",
    "        if vs['compound'] > 0.5:\n",
    "            labels_vader.append(\"Positive\")\n",
    "        elif vs['compound'] > -0.5 and vs['compound'] < 0.5:\n",
    "            labels_vader.append(\"Neutral\")\n",
    "        else:\n",
    "            labels_vader.append(\"Negative\")\n",
    "    return labels_vader"
   ]
  },
  {
   "cell_type": "code",
   "execution_count": 19,
   "id": "4d301b41",
   "metadata": {},
   "outputs": [],
   "source": [
    "win_df['sentiment_label'] = sentiment_analysis(win_df['body'])"
   ]
  },
  {
   "cell_type": "code",
   "execution_count": 20,
   "id": "c879a6df",
   "metadata": {},
   "outputs": [
    {
     "data": {
      "text/html": [
       "<div>\n",
       "<style scoped>\n",
       "    .dataframe tbody tr th:only-of-type {\n",
       "        vertical-align: middle;\n",
       "    }\n",
       "\n",
       "    .dataframe tbody tr th {\n",
       "        vertical-align: top;\n",
       "    }\n",
       "\n",
       "    .dataframe thead th {\n",
       "        text-align: right;\n",
       "    }\n",
       "</style>\n",
       "<table border=\"1\" class=\"dataframe\">\n",
       "  <thead>\n",
       "    <tr style=\"text-align: right;\">\n",
       "      <th></th>\n",
       "      <th>tokenized</th>\n",
       "      <th>body</th>\n",
       "      <th>topic</th>\n",
       "      <th>sentiment_label</th>\n",
       "    </tr>\n",
       "  </thead>\n",
       "  <tbody>\n",
       "    <tr>\n",
       "      <th>0</th>\n",
       "      <td>[support, as, conom]</td>\n",
       "      <td>'''Support''' as co-nom.</td>\n",
       "      <td>2</td>\n",
       "      <td>Neutral</td>\n",
       "    </tr>\n",
       "    <tr>\n",
       "      <th>1</th>\n",
       "      <td>[support, as, nominator]</td>\n",
       "      <td>'''Support''' as nominator.--</td>\n",
       "      <td>2</td>\n",
       "      <td>Neutral</td>\n",
       "    </tr>\n",
       "    <tr>\n",
       "      <th>2</th>\n",
       "      <td>[support, per, noms]</td>\n",
       "      <td>'''Support''' per noms.</td>\n",
       "      <td>2</td>\n",
       "      <td>Neutral</td>\n",
       "    </tr>\n",
       "    <tr>\n",
       "      <th>3</th>\n",
       "      <td>[support, per, noms, bdd, is, a, strong, contr...</td>\n",
       "      <td>'''Support''' per noms. BDD is a strong contri...</td>\n",
       "      <td>1</td>\n",
       "      <td>Neutral</td>\n",
       "    </tr>\n",
       "    <tr>\n",
       "      <th>4</th>\n",
       "      <td>[support, with, great, pleasure, i, work, with...</td>\n",
       "      <td>'''Support''', with great pleasure. I work wit...</td>\n",
       "      <td>0</td>\n",
       "      <td>Positive</td>\n",
       "    </tr>\n",
       "  </tbody>\n",
       "</table>\n",
       "</div>"
      ],
      "text/plain": [
       "                                           tokenized  \\\n",
       "0                               [support, as, conom]   \n",
       "1                           [support, as, nominator]   \n",
       "2                               [support, per, noms]   \n",
       "3  [support, per, noms, bdd, is, a, strong, contr...   \n",
       "4  [support, with, great, pleasure, i, work, with...   \n",
       "\n",
       "                                                body  topic sentiment_label  \n",
       "0                           '''Support''' as co-nom.      2         Neutral  \n",
       "1                      '''Support''' as nominator.--      2         Neutral  \n",
       "2                            '''Support''' per noms.      2         Neutral  \n",
       "3  '''Support''' per noms. BDD is a strong contri...      1         Neutral  \n",
       "4  '''Support''', with great pleasure. I work wit...      0        Positive  "
      ]
     },
     "execution_count": 20,
     "metadata": {},
     "output_type": "execute_result"
    }
   ],
   "source": [
    "win_df.head()"
   ]
  },
  {
   "cell_type": "code",
   "execution_count": 21,
   "id": "a21c2137",
   "metadata": {},
   "outputs": [
    {
     "data": {
      "text/plain": [
       "sentiment_label\n",
       "Negative     9621\n",
       "Neutral     67236\n",
       "Positive    46431\n",
       "dtype: int64"
      ]
     },
     "execution_count": 21,
     "metadata": {},
     "output_type": "execute_result"
    }
   ],
   "source": [
    "win_df.groupby(['sentiment_label']).size()"
   ]
  },
  {
   "cell_type": "code",
   "execution_count": 22,
   "id": "c79bebca",
   "metadata": {},
   "outputs": [
    {
     "data": {
      "text/plain": [
       "topic  sentiment_label\n",
       "0      Negative            4621\n",
       "       Neutral            32559\n",
       "       Positive           22387\n",
       "1      Negative            3549\n",
       "       Neutral            23950\n",
       "       Positive           16844\n",
       "2      Negative            1451\n",
       "       Neutral            10727\n",
       "       Positive            7200\n",
       "dtype: int64"
      ]
     },
     "execution_count": 22,
     "metadata": {},
     "output_type": "execute_result"
    }
   ],
   "source": [
    "win_df.groupby(['topic','sentiment_label']).size()"
   ]
  },
  {
   "cell_type": "markdown",
   "id": "0c285a38",
   "metadata": {},
   "source": [
    "## 3.3 Sentiment Analysis for losers topics"
   ]
  },
  {
   "cell_type": "code",
   "execution_count": 27,
   "id": "9e607d25",
   "metadata": {},
   "outputs": [],
   "source": [
    "los_df['sentiment_label'] = sentiment_analysis(los_df['body'])"
   ]
  },
  {
   "cell_type": "code",
   "execution_count": 28,
   "id": "f2e75069",
   "metadata": {},
   "outputs": [
    {
     "data": {
      "text/html": [
       "<div>\n",
       "<style scoped>\n",
       "    .dataframe tbody tr th:only-of-type {\n",
       "        vertical-align: middle;\n",
       "    }\n",
       "\n",
       "    .dataframe tbody tr th {\n",
       "        vertical-align: top;\n",
       "    }\n",
       "\n",
       "    .dataframe thead th {\n",
       "        text-align: right;\n",
       "    }\n",
       "</style>\n",
       "<table border=\"1\" class=\"dataframe\">\n",
       "  <thead>\n",
       "    <tr style=\"text-align: right;\">\n",
       "      <th></th>\n",
       "      <th>tokenized</th>\n",
       "      <th>body</th>\n",
       "      <th>topic</th>\n",
       "      <th>sentiment_label</th>\n",
       "    </tr>\n",
       "  </thead>\n",
       "  <tbody>\n",
       "    <tr>\n",
       "      <th>0</th>\n",
       "      <td>[i, am, supporting, you, for, our, country, ev...</td>\n",
       "      <td>'''Support''' as co-nom.</td>\n",
       "      <td>2</td>\n",
       "      <td>Neutral</td>\n",
       "    </tr>\n",
       "    <tr>\n",
       "      <th>1</th>\n",
       "      <td>[your, advocacy, is, good, and, i, support, it...</td>\n",
       "      <td>'''Support''' as nominator.--</td>\n",
       "      <td>2</td>\n",
       "      <td>Neutral</td>\n",
       "    </tr>\n",
       "    <tr>\n",
       "      <th>2</th>\n",
       "      <td>[sorry, but, you, dont, have, enough, document...</td>\n",
       "      <td>'''Support''' per noms.</td>\n",
       "      <td>1</td>\n",
       "      <td>Neutral</td>\n",
       "    </tr>\n",
       "    <tr>\n",
       "      <th>3</th>\n",
       "      <td>[strong, oppose, sorry, but, the, fact, you, d...</td>\n",
       "      <td>'''Support''' per noms. BDD is a strong contri...</td>\n",
       "      <td>2</td>\n",
       "      <td>Neutral</td>\n",
       "    </tr>\n",
       "    <tr>\n",
       "      <th>4</th>\n",
       "      <td>[strong, oppose, occasional, editor, with, bar...</td>\n",
       "      <td>'''Support''', with great pleasure. I work wit...</td>\n",
       "      <td>1</td>\n",
       "      <td>Positive</td>\n",
       "    </tr>\n",
       "  </tbody>\n",
       "</table>\n",
       "</div>"
      ],
      "text/plain": [
       "                                           tokenized  \\\n",
       "0  [i, am, supporting, you, for, our, country, ev...   \n",
       "1  [your, advocacy, is, good, and, i, support, it...   \n",
       "2  [sorry, but, you, dont, have, enough, document...   \n",
       "3  [strong, oppose, sorry, but, the, fact, you, d...   \n",
       "4  [strong, oppose, occasional, editor, with, bar...   \n",
       "\n",
       "                                                body  topic sentiment_label  \n",
       "0                           '''Support''' as co-nom.      2         Neutral  \n",
       "1                      '''Support''' as nominator.--      2         Neutral  \n",
       "2                            '''Support''' per noms.      1         Neutral  \n",
       "3  '''Support''' per noms. BDD is a strong contri...      2         Neutral  \n",
       "4  '''Support''', with great pleasure. I work wit...      1        Positive  "
      ]
     },
     "execution_count": 28,
     "metadata": {},
     "output_type": "execute_result"
    }
   ],
   "source": [
    "los_df.head()"
   ]
  },
  {
   "cell_type": "code",
   "execution_count": 29,
   "id": "5ed20d69",
   "metadata": {},
   "outputs": [
    {
     "data": {
      "text/plain": [
       "sentiment_label\n",
       "Negative     5831\n",
       "Neutral     39917\n",
       "Positive    29239\n",
       "dtype: int64"
      ]
     },
     "execution_count": 29,
     "metadata": {},
     "output_type": "execute_result"
    }
   ],
   "source": [
    "los_df.groupby(['sentiment_label']).size()"
   ]
  },
  {
   "cell_type": "code",
   "execution_count": 30,
   "id": "601f998f",
   "metadata": {},
   "outputs": [
    {
     "data": {
      "text/plain": [
       "topic  sentiment_label\n",
       "0      Negative            1201\n",
       "       Neutral             8297\n",
       "       Positive            5964\n",
       "1      Negative            1859\n",
       "       Neutral            12967\n",
       "       Positive            9457\n",
       "2      Negative            2771\n",
       "       Neutral            18653\n",
       "       Positive           13818\n",
       "dtype: int64"
      ]
     },
     "execution_count": 30,
     "metadata": {},
     "output_type": "execute_result"
    }
   ],
   "source": [
    "los_df.groupby(['topic','sentiment_label']).size()"
   ]
  }
 ],
 "metadata": {
  "kernelspec": {
   "display_name": "Python 3 (ipykernel)",
   "language": "python",
   "name": "python3"
  },
  "language_info": {
   "codemirror_mode": {
    "name": "ipython",
    "version": 3
   },
   "file_extension": ".py",
   "mimetype": "text/x-python",
   "name": "python",
   "nbconvert_exporter": "python",
   "pygments_lexer": "ipython3",
   "version": "3.9.13"
  }
 },
 "nbformat": 4,
 "nbformat_minor": 5
}
